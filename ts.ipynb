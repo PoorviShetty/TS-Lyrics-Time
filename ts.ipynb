{
 "cells": [
  {
   "cell_type": "markdown",
   "id": "fb107624-234e-4e7e-9fe8-859d404338b3",
   "metadata": {},
   "source": [
    "Inspired by https://github.com/aaumaitre/taylor_swift\n",
    "\n",
    "Dataset from https://www.kaggle.com/pradhanmanva/taylorswiftlyrics\n",
    "    "
   ]
  },
  {
   "cell_type": "markdown",
   "id": "e5c4a218-b715-450b-ae47-5f54c9ba7cdb",
   "metadata": {},
   "source": [
    "Importing Libraries"
   ]
  },
  {
   "cell_type": "code",
   "execution_count": 1,
   "id": "63a9d7a9-f14b-4232-bbdb-db9b4fb5b447",
   "metadata": {
    "tags": []
   },
   "outputs": [],
   "source": [
    "import string\n",
    "import pandas as pd\n",
    "import numpy as np\n",
    "import tidytext as tt\n",
    "import matplotlib.pyplot as plt\n",
    "from nltk.corpus import stopwords"
   ]
  },
  {
   "cell_type": "markdown",
   "id": "c71ec5a1-95b7-47e7-a3d2-9990beddc558",
   "metadata": {},
   "source": [
    "Import Data"
   ]
  },
  {
   "cell_type": "code",
   "execution_count": 2,
   "id": "91ca1010-fe2f-4e05-a0ee-925a8766a46f",
   "metadata": {},
   "outputs": [
    {
     "data": {
      "text/html": [
       "<div>\n",
       "<style scoped>\n",
       "    .dataframe tbody tr th:only-of-type {\n",
       "        vertical-align: middle;\n",
       "    }\n",
       "\n",
       "    .dataframe tbody tr th {\n",
       "        vertical-align: top;\n",
       "    }\n",
       "\n",
       "    .dataframe thead th {\n",
       "        text-align: right;\n",
       "    }\n",
       "</style>\n",
       "<table border=\"1\" class=\"dataframe\">\n",
       "  <thead>\n",
       "    <tr style=\"text-align: right;\">\n",
       "      <th></th>\n",
       "      <th>index</th>\n",
       "      <th>album</th>\n",
       "      <th>song_title</th>\n",
       "      <th>lyric</th>\n",
       "      <th>line_number</th>\n",
       "      <th>release_date</th>\n",
       "    </tr>\n",
       "  </thead>\n",
       "  <tbody>\n",
       "    <tr>\n",
       "      <th>0</th>\n",
       "      <td>0</td>\n",
       "      <td>Lover</td>\n",
       "      <td>Lover</td>\n",
       "      <td>[Verse 1]</td>\n",
       "      <td>0</td>\n",
       "      <td>2019-08-16</td>\n",
       "    </tr>\n",
       "    <tr>\n",
       "      <th>1</th>\n",
       "      <td>0</td>\n",
       "      <td>Lover</td>\n",
       "      <td>Lover</td>\n",
       "      <td>We could leave the Christmas lights up 'til Ja...</td>\n",
       "      <td>1</td>\n",
       "      <td>2019-08-16</td>\n",
       "    </tr>\n",
       "    <tr>\n",
       "      <th>2</th>\n",
       "      <td>0</td>\n",
       "      <td>Lover</td>\n",
       "      <td>Lover</td>\n",
       "      <td>And this is our place, we make the rules</td>\n",
       "      <td>2</td>\n",
       "      <td>2019-08-16</td>\n",
       "    </tr>\n",
       "    <tr>\n",
       "      <th>3</th>\n",
       "      <td>0</td>\n",
       "      <td>Lover</td>\n",
       "      <td>Lover</td>\n",
       "      <td>And there's a dazzling haze, a mysterious way ...</td>\n",
       "      <td>3</td>\n",
       "      <td>2019-08-16</td>\n",
       "    </tr>\n",
       "    <tr>\n",
       "      <th>4</th>\n",
       "      <td>0</td>\n",
       "      <td>Lover</td>\n",
       "      <td>Lover</td>\n",
       "      <td>Have I known you 20 seconds or 20 years?</td>\n",
       "      <td>4</td>\n",
       "      <td>2019-08-16</td>\n",
       "    </tr>\n",
       "  </tbody>\n",
       "</table>\n",
       "</div>"
      ],
      "text/plain": [
       "   index  album song_title                                              lyric  \\\n",
       "0      0  Lover     Lover                                           [Verse 1]   \n",
       "1      0  Lover     Lover   We could leave the Christmas lights up 'til Ja...   \n",
       "2      0  Lover     Lover            And this is our place, we make the rules   \n",
       "3      0  Lover     Lover   And there's a dazzling haze, a mysterious way ...   \n",
       "4      0  Lover     Lover            Have I known you 20 seconds or 20 years?   \n",
       "\n",
       "   line_number release_date  \n",
       "0            0   2019-08-16  \n",
       "1            1   2019-08-16  \n",
       "2            2   2019-08-16  \n",
       "3            3   2019-08-16  \n",
       "4            4   2019-08-16  "
      ]
     },
     "execution_count": 2,
     "metadata": {},
     "output_type": "execute_result"
    }
   ],
   "source": [
    "lyrics_data = pd.read_csv('./final_taylor_swift_lyrics.tsv', sep='\\t')\n",
    "lyrics_data.head()\n",
    "# lyrics_data.describe()\n"
   ]
  },
  {
   "cell_type": "markdown",
   "id": "cdbc8df2-53af-4562-b7bb-21a828d0632b",
   "metadata": {},
   "source": [
    "Cleanup data, remove punctuation and lines in []"
   ]
  },
  {
   "cell_type": "code",
   "execution_count": 3,
   "id": "9db6f3f4-d967-43bc-b8fe-f3c36d658435",
   "metadata": {},
   "outputs": [],
   "source": [
    "uniqueValues = lyrics_data['album'].unique()"
   ]
  },
  {
   "cell_type": "markdown",
   "id": "6c8b20d9-98cb-4202-9e19-578ce2b2c43e",
   "metadata": {},
   "source": [
    "Disregarding the concert and repackage albums (evermore was sorely missed)"
   ]
  },
  {
   "cell_type": "code",
   "execution_count": 4,
   "id": "71553cfd-deda-4844-8a7d-6a3079cc23b7",
   "metadata": {},
   "outputs": [
    {
     "data": {
      "text/html": [
       "<div>\n",
       "<style scoped>\n",
       "    .dataframe tbody tr th:only-of-type {\n",
       "        vertical-align: middle;\n",
       "    }\n",
       "\n",
       "    .dataframe tbody tr th {\n",
       "        vertical-align: top;\n",
       "    }\n",
       "\n",
       "    .dataframe thead th {\n",
       "        text-align: right;\n",
       "    }\n",
       "</style>\n",
       "<table border=\"1\" class=\"dataframe\">\n",
       "  <thead>\n",
       "    <tr style=\"text-align: right;\">\n",
       "      <th></th>\n",
       "      <th>index</th>\n",
       "      <th>album</th>\n",
       "      <th>song_title</th>\n",
       "      <th>lyric</th>\n",
       "      <th>line_number</th>\n",
       "      <th>release_date</th>\n",
       "    </tr>\n",
       "  </thead>\n",
       "  <tbody>\n",
       "    <tr>\n",
       "      <th>0</th>\n",
       "      <td>0</td>\n",
       "      <td>Lover</td>\n",
       "      <td>Lover</td>\n",
       "      <td>[Verse 1]</td>\n",
       "      <td>0</td>\n",
       "      <td>2019-08-16</td>\n",
       "    </tr>\n",
       "    <tr>\n",
       "      <th>1</th>\n",
       "      <td>0</td>\n",
       "      <td>Lover</td>\n",
       "      <td>Lover</td>\n",
       "      <td>We could leave the Christmas lights up 'til Ja...</td>\n",
       "      <td>1</td>\n",
       "      <td>2019-08-16</td>\n",
       "    </tr>\n",
       "    <tr>\n",
       "      <th>2</th>\n",
       "      <td>0</td>\n",
       "      <td>Lover</td>\n",
       "      <td>Lover</td>\n",
       "      <td>And this is our place, we make the rules</td>\n",
       "      <td>2</td>\n",
       "      <td>2019-08-16</td>\n",
       "    </tr>\n",
       "    <tr>\n",
       "      <th>3</th>\n",
       "      <td>0</td>\n",
       "      <td>Lover</td>\n",
       "      <td>Lover</td>\n",
       "      <td>And there's a dazzling haze, a mysterious way ...</td>\n",
       "      <td>3</td>\n",
       "      <td>2019-08-16</td>\n",
       "    </tr>\n",
       "    <tr>\n",
       "      <th>4</th>\n",
       "      <td>0</td>\n",
       "      <td>Lover</td>\n",
       "      <td>Lover</td>\n",
       "      <td>Have I known you 20 seconds or 20 years?</td>\n",
       "      <td>4</td>\n",
       "      <td>2019-08-16</td>\n",
       "    </tr>\n",
       "  </tbody>\n",
       "</table>\n",
       "</div>"
      ],
      "text/plain": [
       "   index  album song_title                                              lyric  \\\n",
       "0      0  Lover     Lover                                           [Verse 1]   \n",
       "1      0  Lover     Lover   We could leave the Christmas lights up 'til Ja...   \n",
       "2      0  Lover     Lover            And this is our place, we make the rules   \n",
       "3      0  Lover     Lover   And there's a dazzling haze, a mysterious way ...   \n",
       "4      0  Lover     Lover            Have I known you 20 seconds or 20 years?   \n",
       "\n",
       "   line_number release_date  \n",
       "0            0   2019-08-16  \n",
       "1            1   2019-08-16  \n",
       "2            2   2019-08-16  \n",
       "3            3   2019-08-16  \n",
       "4            4   2019-08-16  "
      ]
     },
     "execution_count": 4,
     "metadata": {},
     "output_type": "execute_result"
    }
   ],
   "source": [
    "albums = ['folklore', 'Lover', 'reputation', '1989 (Deluxe)', 'Fearless', 'Red', 'Speak Now', 'Taylor Swift']\n",
    "lyrics_data = lyrics_data[lyrics_data['album'].isin(albums)]\n",
    "lyrics_data.head()\n"
   ]
  },
  {
   "cell_type": "code",
   "execution_count": 5,
   "id": "3b69ceae-faed-4128-bb3a-068053b257da",
   "metadata": {},
   "outputs": [
    {
     "data": {
      "text/html": [
       "<div>\n",
       "<style scoped>\n",
       "    .dataframe tbody tr th:only-of-type {\n",
       "        vertical-align: middle;\n",
       "    }\n",
       "\n",
       "    .dataframe tbody tr th {\n",
       "        vertical-align: top;\n",
       "    }\n",
       "\n",
       "    .dataframe thead th {\n",
       "        text-align: right;\n",
       "    }\n",
       "</style>\n",
       "<table border=\"1\" class=\"dataframe\">\n",
       "  <thead>\n",
       "    <tr style=\"text-align: right;\">\n",
       "      <th></th>\n",
       "      <th>index</th>\n",
       "      <th>album</th>\n",
       "      <th>song_title</th>\n",
       "      <th>lyric</th>\n",
       "      <th>line_number</th>\n",
       "      <th>release_date</th>\n",
       "    </tr>\n",
       "  </thead>\n",
       "  <tbody>\n",
       "    <tr>\n",
       "      <th>1</th>\n",
       "      <td>0</td>\n",
       "      <td>Lover</td>\n",
       "      <td>Lover</td>\n",
       "      <td>We could leave the Christmas lights up 'til Ja...</td>\n",
       "      <td>1</td>\n",
       "      <td>2019-08-16</td>\n",
       "    </tr>\n",
       "    <tr>\n",
       "      <th>2</th>\n",
       "      <td>0</td>\n",
       "      <td>Lover</td>\n",
       "      <td>Lover</td>\n",
       "      <td>And this is our place, we make the rules</td>\n",
       "      <td>2</td>\n",
       "      <td>2019-08-16</td>\n",
       "    </tr>\n",
       "    <tr>\n",
       "      <th>3</th>\n",
       "      <td>0</td>\n",
       "      <td>Lover</td>\n",
       "      <td>Lover</td>\n",
       "      <td>And there's a dazzling haze, a mysterious way ...</td>\n",
       "      <td>3</td>\n",
       "      <td>2019-08-16</td>\n",
       "    </tr>\n",
       "    <tr>\n",
       "      <th>4</th>\n",
       "      <td>0</td>\n",
       "      <td>Lover</td>\n",
       "      <td>Lover</td>\n",
       "      <td>Have I known you 20 seconds or 20 years?</td>\n",
       "      <td>4</td>\n",
       "      <td>2019-08-16</td>\n",
       "    </tr>\n",
       "    <tr>\n",
       "      <th>6</th>\n",
       "      <td>0</td>\n",
       "      <td>Lover</td>\n",
       "      <td>Lover</td>\n",
       "      <td>Can I go where you go?</td>\n",
       "      <td>6</td>\n",
       "      <td>2019-08-16</td>\n",
       "    </tr>\n",
       "  </tbody>\n",
       "</table>\n",
       "</div>"
      ],
      "text/plain": [
       "   index  album song_title                                              lyric  \\\n",
       "1      0  Lover     Lover   We could leave the Christmas lights up 'til Ja...   \n",
       "2      0  Lover     Lover            And this is our place, we make the rules   \n",
       "3      0  Lover     Lover   And there's a dazzling haze, a mysterious way ...   \n",
       "4      0  Lover     Lover            Have I known you 20 seconds or 20 years?   \n",
       "6      0  Lover     Lover                              Can I go where you go?   \n",
       "\n",
       "   line_number release_date  \n",
       "1            1   2019-08-16  \n",
       "2            2   2019-08-16  \n",
       "3            3   2019-08-16  \n",
       "4            4   2019-08-16  \n",
       "6            6   2019-08-16  "
      ]
     },
     "execution_count": 5,
     "metadata": {},
     "output_type": "execute_result"
    }
   ],
   "source": [
    "lyrics_data = lyrics_data[~lyrics_data.lyric.str.contains('\\[')]\n",
    "lyrics_data = lyrics_data[~lyrics_data.song_title.str.contains('\\[')]\n",
    "#lyrics_data['lyric'] = lyrics_data['lyric'].str.replace('[{}]'.format(string.punctuation), '')\n",
    "lyrics_data.head()\n"
   ]
  },
  {
   "cell_type": "markdown",
   "id": "debd1111-023c-47e7-8f37-4536621bffe8",
   "metadata": {},
   "source": [
    "Lyrics to words"
   ]
  },
  {
   "cell_type": "code",
   "execution_count": 6,
   "id": "1bc48fb5-e059-431c-a883-7abe2c146a1f",
   "metadata": {},
   "outputs": [
    {
     "data": {
      "text/html": [
       "<div>\n",
       "<style scoped>\n",
       "    .dataframe tbody tr th:only-of-type {\n",
       "        vertical-align: middle;\n",
       "    }\n",
       "\n",
       "    .dataframe tbody tr th {\n",
       "        vertical-align: top;\n",
       "    }\n",
       "\n",
       "    .dataframe thead th {\n",
       "        text-align: right;\n",
       "    }\n",
       "</style>\n",
       "<table border=\"1\" class=\"dataframe\">\n",
       "  <thead>\n",
       "    <tr style=\"text-align: right;\">\n",
       "      <th></th>\n",
       "      <th>index</th>\n",
       "      <th>album</th>\n",
       "      <th>song_title</th>\n",
       "      <th>line_number</th>\n",
       "      <th>release_date</th>\n",
       "      <th>word</th>\n",
       "    </tr>\n",
       "  </thead>\n",
       "  <tbody>\n",
       "    <tr>\n",
       "      <th>1</th>\n",
       "      <td>0</td>\n",
       "      <td>Lover</td>\n",
       "      <td>Lover</td>\n",
       "      <td>1</td>\n",
       "      <td>2019-08-16</td>\n",
       "      <td>we</td>\n",
       "    </tr>\n",
       "    <tr>\n",
       "      <th>1</th>\n",
       "      <td>0</td>\n",
       "      <td>Lover</td>\n",
       "      <td>Lover</td>\n",
       "      <td>1</td>\n",
       "      <td>2019-08-16</td>\n",
       "      <td>could</td>\n",
       "    </tr>\n",
       "    <tr>\n",
       "      <th>1</th>\n",
       "      <td>0</td>\n",
       "      <td>Lover</td>\n",
       "      <td>Lover</td>\n",
       "      <td>1</td>\n",
       "      <td>2019-08-16</td>\n",
       "      <td>leave</td>\n",
       "    </tr>\n",
       "    <tr>\n",
       "      <th>1</th>\n",
       "      <td>0</td>\n",
       "      <td>Lover</td>\n",
       "      <td>Lover</td>\n",
       "      <td>1</td>\n",
       "      <td>2019-08-16</td>\n",
       "      <td>the</td>\n",
       "    </tr>\n",
       "    <tr>\n",
       "      <th>1</th>\n",
       "      <td>0</td>\n",
       "      <td>Lover</td>\n",
       "      <td>Lover</td>\n",
       "      <td>1</td>\n",
       "      <td>2019-08-16</td>\n",
       "      <td>christmas</td>\n",
       "    </tr>\n",
       "  </tbody>\n",
       "</table>\n",
       "</div>"
      ],
      "text/plain": [
       "   index  album song_title  line_number release_date       word\n",
       "1      0  Lover     Lover             1   2019-08-16         we\n",
       "1      0  Lover     Lover             1   2019-08-16      could\n",
       "1      0  Lover     Lover             1   2019-08-16      leave\n",
       "1      0  Lover     Lover             1   2019-08-16        the\n",
       "1      0  Lover     Lover             1   2019-08-16  christmas"
      ]
     },
     "execution_count": 6,
     "metadata": {},
     "output_type": "execute_result"
    }
   ],
   "source": [
    "words_data = tt.unnest_tokens(lyrics_data, \"word\", \"lyric\")\n",
    "words_data.head()"
   ]
  },
  {
   "cell_type": "markdown",
   "id": "54c4420a-0df9-4497-9ee7-d2e95284e2fe",
   "metadata": {},
   "source": [
    "Get count of words"
   ]
  },
  {
   "cell_type": "code",
   "execution_count": 7,
   "id": "de603639-6d90-4219-87e0-666b14f7d666",
   "metadata": {},
   "outputs": [
    {
     "data": {
      "text/plain": [
       "you           1939\n",
       "i             1925\n",
       "the           1362\n",
       "and           1179\n",
       "me             731\n",
       "              ... \n",
       "dwindling        1\n",
       "mommas           1\n",
       "nonchalant       1\n",
       "screamed         1\n",
       "18               1\n",
       "Name: word, Length: 2812, dtype: int64"
      ]
     },
     "execution_count": 7,
     "metadata": {},
     "output_type": "execute_result"
    }
   ],
   "source": [
    "words_freq = words_data['word'].value_counts()\n",
    "words_freq"
   ]
  },
  {
   "cell_type": "markdown",
   "id": "d2cb17d5-103d-419c-9ff7-441cfadb41fb",
   "metadata": {},
   "source": [
    "\n",
    "Removing stop words"
   ]
  },
  {
   "cell_type": "code",
   "execution_count": 8,
   "id": "6cd9f9f2-6680-4835-be22-b4095d22f6f7",
   "metadata": {},
   "outputs": [
    {
     "data": {
      "text/plain": [
       "like     335\n",
       "know     325\n",
       "im       313\n",
       "oh       308\n",
       "never    260\n",
       "love     230\n",
       "dont     217\n",
       "na       215\n",
       "cause    188\n",
       "time     182\n",
       "youre    176\n",
       "back     176\n",
       "want     157\n",
       "one      157\n",
       "got      147\n",
       "Name: word, dtype: int64"
      ]
     },
     "execution_count": 8,
     "metadata": {},
     "output_type": "execute_result"
    }
   ],
   "source": [
    "stop = stopwords.words('english')\n",
    "#stop = stop.str.replace('[{}]'.format(string.punctuation), '')\n",
    "\n",
    "words_data['word'] = words_data['word'].apply(lambda x: ' '.join([word for word in x.split() if word not in (stop)]))\n",
    "#words_data['word']\n",
    "words_data['word'].replace('', np.nan, inplace=True)\n",
    "words_mod_freq = words_data['word'].value_counts().nlargest(15)\n",
    "words_mod_freq\n"
   ]
  },
  {
   "cell_type": "markdown",
   "id": "26290ebc-b428-4c99-9c7e-ff699b1fce11",
   "metadata": {},
   "source": [
    "Plotting the word frequency"
   ]
  },
  {
   "cell_type": "code",
   "execution_count": 9,
   "id": "28a037aa-97f0-4ae5-91cc-dd6df38ab466",
   "metadata": {},
   "outputs": [
    {
     "data": {
      "text/plain": [
       "<AxesSubplot:>"
      ]
     },
     "execution_count": 9,
     "metadata": {},
     "output_type": "execute_result"
    },
    {
     "data": {
      "image/png": "[encoded data removed]",
      "text/plain": [
       "<Figure size 432x288 with 1 Axes>"
      ]
     },
     "metadata": {
      "needs_background": "light"
     },
     "output_type": "display_data"
    }
   ],
   "source": [
    "words_mod_freq.plot(kind=\"bar\")"
   ]
  },
  {
   "cell_type": "markdown",
   "id": "311e0c25-5e96-4d5e-a841-9498705a9318",
   "metadata": {},
   "source": [
    "Sentiment Analysis"
   ]
  },
  {
   "cell_type": "code",
   "execution_count": 10,
   "id": "c187ef69-1c0c-4fca-9808-66e6edca43a5",
   "metadata": {},
   "outputs": [],
   "source": [
    "# from wordcloud import WordCloud \n",
    "\n",
    "# df = words_data[words_data.word.notna()]\n",
    "# print(df.head())\n",
    "# textt = \" \".join(word for word in df.word)\n",
    "# wordcloud = WordCloud(stopwords=words_mod_freq).generate(textt)\n",
    "# plt.imshow(wordcloud, interpolation='bilinear')"
   ]
  },
  {
   "cell_type": "markdown",
   "id": "fd8d7e87-4b6a-4e3d-a86a-500d5ca10b1c",
   "metadata": {},
   "source": [
    "Get Sentiment Analyser"
   ]
  },
  {
   "cell_type": "code",
   "execution_count": 11,
   "id": "dac596e1-8420-4b2d-8ea3-75fc0a36f80c",
   "metadata": {},
   "outputs": [],
   "source": [
    "from nltk.sentiment import SentimentIntensityAnalyzer\n",
    "sia = SentimentIntensityAnalyzer()\n"
   ]
  },
  {
   "cell_type": "markdown",
   "id": "69aaf4cc-566e-47d3-b43c-32361d1e5856",
   "metadata": {},
   "source": [
    "Evalulate sentiment"
   ]
  },
  {
   "cell_type": "code",
   "execution_count": 12,
   "id": "e9f7cac0-ffb3-4afc-a03f-325ea1bda721",
   "metadata": {},
   "outputs": [],
   "source": [
    "def valuation_formula(x):\n",
    "    return max(sia.polarity_scores(x), key=sia.polarity_scores(x).get)\n",
    "\n",
    "lyrics_data['sentiment'] = lyrics_data.apply(lambda row: valuation_formula(row['lyric']), axis=1)\n"
   ]
  },
  {
   "cell_type": "markdown",
   "id": "123a7c9a-7717-4dfd-86f3-a7f4b5a11307",
   "metadata": {},
   "source": [
    "Visualise sentiment (Sentiment, Album, Freq), classify sentiment of song by couting sentiment of lines"
   ]
  },
  {
   "cell_type": "code",
   "execution_count": 13,
   "id": "6599beaa-bcc2-4092-a37a-1dc45bf26d23",
   "metadata": {},
   "outputs": [
    {
     "data": {
      "text/plain": [
       "neu         4724\n",
       "compound     455\n",
       "pos          166\n",
       "neg          156\n",
       "Name: sentiment, dtype: int64"
      ]
     },
     "execution_count": 13,
     "metadata": {},
     "output_type": "execute_result"
    },
    {
     "data": {
      "image/png": "[encoded data removed]",
      "text/plain": [
       "<Figure size 432x288 with 1 Axes>"
      ]
     },
     "metadata": {},
     "output_type": "display_data"
    }
   ],
   "source": [
    "#plotdata = pd.DataFrame(lyrics_data['sentiment'], lyrics_data['album'])\n",
    "sentiment_freq = lyrics_data['sentiment'].value_counts()\n",
    "plt.pie(sentiment_freq, labels = ['neu', 'comp', 'pos', 'neg'])\n",
    "sentiment_freq.head()\n"
   ]
  },
  {
   "cell_type": "markdown",
   "id": "bc2d5715-2d32-4e23-9230-45f077eeb98b",
   "metadata": {},
   "source": [
    "Grouping sentiment by song"
   ]
  },
  {
   "cell_type": "code",
   "execution_count": 14,
   "id": "9aa7cbc6-0f01-4bf4-b27a-b2e31ac84240",
   "metadata": {},
   "outputs": [],
   "source": [
    "sent_list = list()\n",
    "\n",
    "for i in lyrics_data['song_title'].unique():\n",
    "    y = lyrics_data[lyrics_data['song_title'] == i ].sum().lyric\n",
    "    m = max(sia.polarity_scores(y)['neg'], sia.polarity_scores(y)['pos'])\n",
    "    album_name = lyrics_data['album'].where(lyrics_data['song_title'] == i).dropna().values[0]\n",
    "    val_list = list(sia.polarity_scores(y).values())\n",
    "    if val_list.index(m) == 2:        \n",
    "        sent_list.append([i, album_name,'pos'])\n",
    "    else:\n",
    "        sent_list.append([i, album_name,'neg'])\n",
    "        \n",
    "# sent_list\n"
   ]
  },
  {
   "cell_type": "code",
   "execution_count": 15,
   "id": "5e5ef059-c9c8-40b5-9bf5-b1be44526f7f",
   "metadata": {},
   "outputs": [
    {
     "data": {
      "text/html": [
       "<div>\n",
       "<style scoped>\n",
       "    .dataframe tbody tr th:only-of-type {\n",
       "        vertical-align: middle;\n",
       "    }\n",
       "\n",
       "    .dataframe tbody tr th {\n",
       "        vertical-align: top;\n",
       "    }\n",
       "\n",
       "    .dataframe thead th {\n",
       "        text-align: right;\n",
       "    }\n",
       "</style>\n",
       "<table border=\"1\" class=\"dataframe\">\n",
       "  <thead>\n",
       "    <tr style=\"text-align: right;\">\n",
       "      <th></th>\n",
       "      <th>song_title</th>\n",
       "      <th>album</th>\n",
       "      <th>sentiment</th>\n",
       "    </tr>\n",
       "  </thead>\n",
       "  <tbody>\n",
       "    <tr>\n",
       "      <th>0</th>\n",
       "      <td>Lover</td>\n",
       "      <td>Lover</td>\n",
       "      <td>pos</td>\n",
       "    </tr>\n",
       "    <tr>\n",
       "      <th>1</th>\n",
       "      <td>Look What You Made Me Do</td>\n",
       "      <td>reputation</td>\n",
       "      <td>neg</td>\n",
       "    </tr>\n",
       "    <tr>\n",
       "      <th>2</th>\n",
       "      <td>End Game  (Ft. Ed Sheeran &amp; Future)</td>\n",
       "      <td>reputation</td>\n",
       "      <td>pos</td>\n",
       "    </tr>\n",
       "    <tr>\n",
       "      <th>3</th>\n",
       "      <td>ME!  (Ft. Brendon Urie)</td>\n",
       "      <td>Lover</td>\n",
       "      <td>pos</td>\n",
       "    </tr>\n",
       "    <tr>\n",
       "      <th>4</th>\n",
       "      <td>You Need To Calm Down</td>\n",
       "      <td>Lover</td>\n",
       "      <td>pos</td>\n",
       "    </tr>\n",
       "    <tr>\n",
       "      <th>...</th>\n",
       "      <td>...</td>\n",
       "      <td>...</td>\n",
       "      <td>...</td>\n",
       "    </tr>\n",
       "    <tr>\n",
       "      <th>106</th>\n",
       "      <td>The Outside</td>\n",
       "      <td>Taylor Swift</td>\n",
       "      <td>neg</td>\n",
       "    </tr>\n",
       "    <tr>\n",
       "      <th>107</th>\n",
       "      <td>A Place In This World</td>\n",
       "      <td>Taylor Swift</td>\n",
       "      <td>neg</td>\n",
       "    </tr>\n",
       "    <tr>\n",
       "      <th>108</th>\n",
       "      <td>I Wish You Would (Voice Memo)</td>\n",
       "      <td>1989 (Deluxe)</td>\n",
       "      <td>pos</td>\n",
       "    </tr>\n",
       "    <tr>\n",
       "      <th>109</th>\n",
       "      <td>A Perfectly Good Heart</td>\n",
       "      <td>Taylor Swift</td>\n",
       "      <td>pos</td>\n",
       "    </tr>\n",
       "    <tr>\n",
       "      <th>110</th>\n",
       "      <td>Teardrops on My Guitar (Pop Version)</td>\n",
       "      <td>Taylor Swift</td>\n",
       "      <td>pos</td>\n",
       "    </tr>\n",
       "  </tbody>\n",
       "</table>\n",
       "<p>111 rows × 3 columns</p>\n",
       "</div>"
      ],
      "text/plain": [
       "                                song_title          album sentiment\n",
       "0                                   Lover           Lover       pos\n",
       "1                Look What You Made Me Do      reputation       neg\n",
       "2      End Game  (Ft. Ed Sheeran & Future)     reputation       pos\n",
       "3                  ME!  (Ft. Brendon Urie)          Lover       pos\n",
       "4                   You Need To Calm Down           Lover       pos\n",
       "..                                     ...            ...       ...\n",
       "106                           The Outside    Taylor Swift       neg\n",
       "107                 A Place In This World    Taylor Swift       neg\n",
       "108         I Wish You Would (Voice Memo)   1989 (Deluxe)       pos\n",
       "109                A Perfectly Good Heart    Taylor Swift       pos\n",
       "110  Teardrops on My Guitar (Pop Version)    Taylor Swift       pos\n",
       "\n",
       "[111 rows x 3 columns]"
      ]
     },
     "execution_count": 15,
     "metadata": {},
     "output_type": "execute_result"
    }
   ],
   "source": [
    "sent_df = pd.DataFrame(sent_list, columns =['song_title', 'album', 'sentiment'])\n",
    "sent_df"
   ]
  },
  {
   "cell_type": "markdown",
   "id": "cb5a865a-4689-4f61-b424-0920fea52e1b",
   "metadata": {},
   "source": [
    "Grouping sentiment by album"
   ]
  },
  {
   "cell_type": "code",
   "execution_count": 16,
   "id": "8cf39d67-f622-4767-88cd-d53b17d4d8f0",
   "metadata": {},
   "outputs": [
    {
     "data": {
      "text/plain": [
       "[('Lover', '6', '12'),\n",
       " ('reputation', '3', '12'),\n",
       " ('1989 (Deluxe)', '6', '13'),\n",
       " ('folklore', '9', '7'),\n",
       " ('Fearless', '4', '9'),\n",
       " ('Red', '1', '18'),\n",
       " ('Taylor Swift', '3', '8')]"
      ]
     },
     "execution_count": 16,
     "metadata": {},
     "output_type": "execute_result"
    }
   ],
   "source": [
    "album_sent_list = list()\n",
    "for i in lyrics_data['album'].unique():\n",
    "    album_sent = sent_df['sentiment'].where(sent_df['album'] == i).dropna().values\n",
    "    (unique, counts) = np.unique(album_sent, return_counts=True)\n",
    "\n",
    "    frequencies = np.asarray((unique, counts)).T\n",
    "    album_sent_list.append((i, str(frequencies[0][1]), str(frequencies[1][1])))\n",
    "    \n",
    "album_sent_list"
   ]
  },
  {
   "cell_type": "code",
   "execution_count": 17,
   "id": "4b3f8634-8d09-44c7-a268-1d9a42d18946",
   "metadata": {},
   "outputs": [
    {
     "data": {
      "text/html": [
       "<div>\n",
       "<style scoped>\n",
       "    .dataframe tbody tr th:only-of-type {\n",
       "        vertical-align: middle;\n",
       "    }\n",
       "\n",
       "    .dataframe tbody tr th {\n",
       "        vertical-align: top;\n",
       "    }\n",
       "\n",
       "    .dataframe thead th {\n",
       "        text-align: right;\n",
       "    }\n",
       "</style>\n",
       "<table border=\"1\" class=\"dataframe\">\n",
       "  <thead>\n",
       "    <tr style=\"text-align: right;\">\n",
       "      <th></th>\n",
       "      <th>album</th>\n",
       "      <th>neg</th>\n",
       "      <th>pos</th>\n",
       "    </tr>\n",
       "  </thead>\n",
       "  <tbody>\n",
       "    <tr>\n",
       "      <th>0</th>\n",
       "      <td>Lover</td>\n",
       "      <td>6</td>\n",
       "      <td>12</td>\n",
       "    </tr>\n",
       "    <tr>\n",
       "      <th>1</th>\n",
       "      <td>reputation</td>\n",
       "      <td>3</td>\n",
       "      <td>12</td>\n",
       "    </tr>\n",
       "    <tr>\n",
       "      <th>2</th>\n",
       "      <td>1989 (Deluxe)</td>\n",
       "      <td>6</td>\n",
       "      <td>13</td>\n",
       "    </tr>\n",
       "    <tr>\n",
       "      <th>3</th>\n",
       "      <td>folklore</td>\n",
       "      <td>9</td>\n",
       "      <td>7</td>\n",
       "    </tr>\n",
       "    <tr>\n",
       "      <th>4</th>\n",
       "      <td>Fearless</td>\n",
       "      <td>4</td>\n",
       "      <td>9</td>\n",
       "    </tr>\n",
       "  </tbody>\n",
       "</table>\n",
       "</div>"
      ],
      "text/plain": [
       "           album neg pos\n",
       "0          Lover   6  12\n",
       "1     reputation   3  12\n",
       "2  1989 (Deluxe)   6  13\n",
       "3       folklore   9   7\n",
       "4       Fearless   4   9"
      ]
     },
     "execution_count": 17,
     "metadata": {},
     "output_type": "execute_result"
    }
   ],
   "source": [
    "album_sent_df = pd.DataFrame(album_sent_list, columns = ['album', 'neg', 'pos'])\n",
    "album_sent_df.head()"
   ]
  },
  {
   "cell_type": "markdown",
   "id": "da2a83a6-cd80-4887-ac11-5fe2ba3d31f5",
   "metadata": {},
   "source": [
    "Bar graph time"
   ]
  },
  {
   "cell_type": "code",
   "execution_count": 18,
   "id": "d8d472cf-1dff-440c-9cb5-334f74e0459c",
   "metadata": {},
   "outputs": [
    {
     "data": {
      "text/plain": [
       "<AxesSubplot:xlabel='album'>"
      ]
     },
     "execution_count": 18,
     "metadata": {},
     "output_type": "execute_result"
    },
    {
     "data": {
      "image/png": "[encoded data removed]",
      "text/plain": [
       "<Figure size 432x288 with 1 Axes>"
      ]
     },
     "metadata": {
      "needs_background": "light"
     },
     "output_type": "display_data"
    }
   ],
   "source": [
    "#album_sent_df.plot(x=\"album\", y=[\"neg\", \"pos\"], kind=\"bar\")\n",
    "album_sent_df['neg']=album_sent_df['neg'].astype(float)\n",
    "album_sent_df['pos']=album_sent_df['pos'].astype(float)\n",
    "album_sent_df[[\"album\", \"neg\", \"pos\"]].plot(x=\"album\", kind=\"bar\")"
   ]
  },
  {
   "cell_type": "code",
   "execution_count": null,
   "id": "acf3fb5a-c562-4a86-82fc-c6467909c8d2",
   "metadata": {},
   "outputs": [],
   "source": []
  }
 ],
 "metadata": {
  "kernelspec": {
   "display_name": "Python 3",
   "language": "python",
   "name": "python3"
  },
  "language_info": {
   "codemirror_mode": {
    "name": "ipython",
    "version": 3
   },
   "file_extension": ".py",
   "mimetype": "text/x-python",
   "name": "python",
   "nbconvert_exporter": "python",
   "pygments_lexer": "ipython3",
   "version": "3.9.5"
  }
 },
 "nbformat": 4,
 "nbformat_minor": 5
}
