{
 "cells": [
  {
   "cell_type": "markdown",
   "metadata": {},
   "source": [
    "Inspired by https://github.com/aaumaitre/taylor_swift\n",
    "\n",
    "Dataset from https://www.kaggle.com/pradhanmanva/taylorswiftlyrics\n",
    "    "
   ]
  },
  {
   "cell_type": "markdown",
   "metadata": {},
   "source": [
    "Importing Libraries"
   ]
  },
  {
   "cell_type": "code",
   "execution_count": 14,
   "metadata": {
    "tags": []
   },
   "outputs": [],
   "source": [
    "import pandas as pd\r\n",
    "import numpy as np\r\n",
    "import tidytext as tt\r\n",
    "import matplotlib.pyplot as plt\r\n",
    "from nltk.corpus import stopwords"
   ]
  },
  {
   "cell_type": "markdown",
   "metadata": {},
   "source": [
    "Import Data"
   ]
  },
  {
   "cell_type": "code",
   "execution_count": 15,
   "metadata": {},
   "outputs": [
    {
     "data": {
      "text/html": [
       "<div>\n",
       "<style scoped>\n",
       "    .dataframe tbody tr th:only-of-type {\n",
       "        vertical-align: middle;\n",
       "    }\n",
       "\n",
       "    .dataframe tbody tr th {\n",
       "        vertical-align: top;\n",
       "    }\n",
       "\n",
       "    .dataframe thead th {\n",
       "        text-align: right;\n",
       "    }\n",
       "</style>\n",
       "<table border=\"1\" class=\"dataframe\">\n",
       "  <thead>\n",
       "    <tr style=\"text-align: right;\">\n",
       "      <th></th>\n",
       "      <th>index</th>\n",
       "      <th>album</th>\n",
       "      <th>song_title</th>\n",
       "      <th>lyric</th>\n",
       "      <th>line_number</th>\n",
       "      <th>release_date</th>\n",
       "    </tr>\n",
       "  </thead>\n",
       "  <tbody>\n",
       "    <tr>\n",
       "      <th>0</th>\n",
       "      <td>0</td>\n",
       "      <td>Lover</td>\n",
       "      <td>Lover</td>\n",
       "      <td>[Verse 1]</td>\n",
       "      <td>0</td>\n",
       "      <td>2019-08-16</td>\n",
       "    </tr>\n",
       "    <tr>\n",
       "      <th>1</th>\n",
       "      <td>0</td>\n",
       "      <td>Lover</td>\n",
       "      <td>Lover</td>\n",
       "      <td>We could leave the Christmas lights up 'til Ja...</td>\n",
       "      <td>1</td>\n",
       "      <td>2019-08-16</td>\n",
       "    </tr>\n",
       "    <tr>\n",
       "      <th>2</th>\n",
       "      <td>0</td>\n",
       "      <td>Lover</td>\n",
       "      <td>Lover</td>\n",
       "      <td>And this is our place, we make the rules</td>\n",
       "      <td>2</td>\n",
       "      <td>2019-08-16</td>\n",
       "    </tr>\n",
       "    <tr>\n",
       "      <th>3</th>\n",
       "      <td>0</td>\n",
       "      <td>Lover</td>\n",
       "      <td>Lover</td>\n",
       "      <td>And there's a dazzling haze, a mysterious way ...</td>\n",
       "      <td>3</td>\n",
       "      <td>2019-08-16</td>\n",
       "    </tr>\n",
       "    <tr>\n",
       "      <th>4</th>\n",
       "      <td>0</td>\n",
       "      <td>Lover</td>\n",
       "      <td>Lover</td>\n",
       "      <td>Have I known you 20 seconds or 20 years?</td>\n",
       "      <td>4</td>\n",
       "      <td>2019-08-16</td>\n",
       "    </tr>\n",
       "  </tbody>\n",
       "</table>\n",
       "</div>"
      ],
      "text/plain": [
       "   index  album song_title                                              lyric  \\\n",
       "0      0  Lover     Lover                                           [Verse 1]   \n",
       "1      0  Lover     Lover   We could leave the Christmas lights up 'til Ja...   \n",
       "2      0  Lover     Lover            And this is our place, we make the rules   \n",
       "3      0  Lover     Lover   And there's a dazzling haze, a mysterious way ...   \n",
       "4      0  Lover     Lover            Have I known you 20 seconds or 20 years?   \n",
       "\n",
       "   line_number release_date  \n",
       "0            0   2019-08-16  \n",
       "1            1   2019-08-16  \n",
       "2            2   2019-08-16  \n",
       "3            3   2019-08-16  \n",
       "4            4   2019-08-16  "
      ]
     },
     "execution_count": 15,
     "metadata": {},
     "output_type": "execute_result"
    }
   ],
   "source": [
    "lyrics_data = pd.read_csv('./final_taylor_swift_lyrics.tsv', sep='\\t')\n",
    "lyrics_data.head()\n",
    "# lyrics_data.describe()\n"
   ]
  },
  {
   "cell_type": "markdown",
   "metadata": {},
   "source": [
    "Cleanup data, remove punctuation and lines in []"
   ]
  },
  {
   "cell_type": "code",
   "execution_count": 16,
   "metadata": {},
   "outputs": [],
   "source": [
    "uniqueValues = lyrics_data['album'].unique()"
   ]
  },
  {
   "cell_type": "markdown",
   "metadata": {},
   "source": [
    "Disregarding the concert and repackage albums (evermore was sorely missed)"
   ]
  },
  {
   "cell_type": "code",
   "execution_count": 17,
   "metadata": {},
   "outputs": [
    {
     "data": {
      "text/html": [
       "<div>\n",
       "<style scoped>\n",
       "    .dataframe tbody tr th:only-of-type {\n",
       "        vertical-align: middle;\n",
       "    }\n",
       "\n",
       "    .dataframe tbody tr th {\n",
       "        vertical-align: top;\n",
       "    }\n",
       "\n",
       "    .dataframe thead th {\n",
       "        text-align: right;\n",
       "    }\n",
       "</style>\n",
       "<table border=\"1\" class=\"dataframe\">\n",
       "  <thead>\n",
       "    <tr style=\"text-align: right;\">\n",
       "      <th></th>\n",
       "      <th>index</th>\n",
       "      <th>album</th>\n",
       "      <th>song_title</th>\n",
       "      <th>lyric</th>\n",
       "      <th>line_number</th>\n",
       "      <th>release_date</th>\n",
       "    </tr>\n",
       "  </thead>\n",
       "  <tbody>\n",
       "    <tr>\n",
       "      <th>0</th>\n",
       "      <td>0</td>\n",
       "      <td>Lover</td>\n",
       "      <td>Lover</td>\n",
       "      <td>[Verse 1]</td>\n",
       "      <td>0</td>\n",
       "      <td>2019-08-16</td>\n",
       "    </tr>\n",
       "    <tr>\n",
       "      <th>1</th>\n",
       "      <td>0</td>\n",
       "      <td>Lover</td>\n",
       "      <td>Lover</td>\n",
       "      <td>We could leave the Christmas lights up 'til Ja...</td>\n",
       "      <td>1</td>\n",
       "      <td>2019-08-16</td>\n",
       "    </tr>\n",
       "    <tr>\n",
       "      <th>2</th>\n",
       "      <td>0</td>\n",
       "      <td>Lover</td>\n",
       "      <td>Lover</td>\n",
       "      <td>And this is our place, we make the rules</td>\n",
       "      <td>2</td>\n",
       "      <td>2019-08-16</td>\n",
       "    </tr>\n",
       "    <tr>\n",
       "      <th>3</th>\n",
       "      <td>0</td>\n",
       "      <td>Lover</td>\n",
       "      <td>Lover</td>\n",
       "      <td>And there's a dazzling haze, a mysterious way ...</td>\n",
       "      <td>3</td>\n",
       "      <td>2019-08-16</td>\n",
       "    </tr>\n",
       "    <tr>\n",
       "      <th>4</th>\n",
       "      <td>0</td>\n",
       "      <td>Lover</td>\n",
       "      <td>Lover</td>\n",
       "      <td>Have I known you 20 seconds or 20 years?</td>\n",
       "      <td>4</td>\n",
       "      <td>2019-08-16</td>\n",
       "    </tr>\n",
       "  </tbody>\n",
       "</table>\n",
       "</div>"
      ],
      "text/plain": [
       "   index  album song_title                                              lyric  \\\n",
       "0      0  Lover     Lover                                           [Verse 1]   \n",
       "1      0  Lover     Lover   We could leave the Christmas lights up 'til Ja...   \n",
       "2      0  Lover     Lover            And this is our place, we make the rules   \n",
       "3      0  Lover     Lover   And there's a dazzling haze, a mysterious way ...   \n",
       "4      0  Lover     Lover            Have I known you 20 seconds or 20 years?   \n",
       "\n",
       "   line_number release_date  \n",
       "0            0   2019-08-16  \n",
       "1            1   2019-08-16  \n",
       "2            2   2019-08-16  \n",
       "3            3   2019-08-16  \n",
       "4            4   2019-08-16  "
      ]
     },
     "execution_count": 17,
     "metadata": {},
     "output_type": "execute_result"
    }
   ],
   "source": [
    "albums = ['folklore', 'Lover', 'reputation', '1989 (Deluxe)', 'Fearless', 'Red', 'Speak Now', 'Taylor Swift']\n",
    "lyrics_data = lyrics_data[lyrics_data['album'].isin(albums)]\n",
    "lyrics_data.head()\n"
   ]
  },
  {
   "cell_type": "code",
   "execution_count": 18,
   "metadata": {},
   "outputs": [
    {
     "data": {
      "text/html": [
       "<div>\n",
       "<style scoped>\n",
       "    .dataframe tbody tr th:only-of-type {\n",
       "        vertical-align: middle;\n",
       "    }\n",
       "\n",
       "    .dataframe tbody tr th {\n",
       "        vertical-align: top;\n",
       "    }\n",
       "\n",
       "    .dataframe thead th {\n",
       "        text-align: right;\n",
       "    }\n",
       "</style>\n",
       "<table border=\"1\" class=\"dataframe\">\n",
       "  <thead>\n",
       "    <tr style=\"text-align: right;\">\n",
       "      <th></th>\n",
       "      <th>index</th>\n",
       "      <th>album</th>\n",
       "      <th>song_title</th>\n",
       "      <th>lyric</th>\n",
       "      <th>line_number</th>\n",
       "      <th>release_date</th>\n",
       "    </tr>\n",
       "  </thead>\n",
       "  <tbody>\n",
       "    <tr>\n",
       "      <th>1</th>\n",
       "      <td>0</td>\n",
       "      <td>Lover</td>\n",
       "      <td>Lover</td>\n",
       "      <td>We could leave the Christmas lights up 'til Ja...</td>\n",
       "      <td>1</td>\n",
       "      <td>2019-08-16</td>\n",
       "    </tr>\n",
       "    <tr>\n",
       "      <th>2</th>\n",
       "      <td>0</td>\n",
       "      <td>Lover</td>\n",
       "      <td>Lover</td>\n",
       "      <td>And this is our place, we make the rules</td>\n",
       "      <td>2</td>\n",
       "      <td>2019-08-16</td>\n",
       "    </tr>\n",
       "    <tr>\n",
       "      <th>3</th>\n",
       "      <td>0</td>\n",
       "      <td>Lover</td>\n",
       "      <td>Lover</td>\n",
       "      <td>And there's a dazzling haze, a mysterious way ...</td>\n",
       "      <td>3</td>\n",
       "      <td>2019-08-16</td>\n",
       "    </tr>\n",
       "    <tr>\n",
       "      <th>4</th>\n",
       "      <td>0</td>\n",
       "      <td>Lover</td>\n",
       "      <td>Lover</td>\n",
       "      <td>Have I known you 20 seconds or 20 years?</td>\n",
       "      <td>4</td>\n",
       "      <td>2019-08-16</td>\n",
       "    </tr>\n",
       "    <tr>\n",
       "      <th>6</th>\n",
       "      <td>0</td>\n",
       "      <td>Lover</td>\n",
       "      <td>Lover</td>\n",
       "      <td>Can I go where you go?</td>\n",
       "      <td>6</td>\n",
       "      <td>2019-08-16</td>\n",
       "    </tr>\n",
       "  </tbody>\n",
       "</table>\n",
       "</div>"
      ],
      "text/plain": [
       "   index  album song_title                                              lyric  \\\n",
       "1      0  Lover     Lover   We could leave the Christmas lights up 'til Ja...   \n",
       "2      0  Lover     Lover            And this is our place, we make the rules   \n",
       "3      0  Lover     Lover   And there's a dazzling haze, a mysterious way ...   \n",
       "4      0  Lover     Lover            Have I known you 20 seconds or 20 years?   \n",
       "6      0  Lover     Lover                              Can I go where you go?   \n",
       "\n",
       "   line_number release_date  \n",
       "1            1   2019-08-16  \n",
       "2            2   2019-08-16  \n",
       "3            3   2019-08-16  \n",
       "4            4   2019-08-16  \n",
       "6            6   2019-08-16  "
      ]
     },
     "execution_count": 18,
     "metadata": {},
     "output_type": "execute_result"
    }
   ],
   "source": [
    "lyrics_data = lyrics_data[~lyrics_data.lyric.str.contains('\\[')]\r\n",
    "lyrics_data = lyrics_data[~lyrics_data.song_title.str.contains('\\[')]\r\n",
    "#lyrics_data['lyric'] = lyrics_data['lyric'].str.replace('[{}]'.format(string.punctuation), '')\r\n",
    "lyrics_data.head()\r\n"
   ]
  },
  {
   "cell_type": "markdown",
   "metadata": {},
   "source": [
    "Lyrics to words"
   ]
  },
  {
   "cell_type": "code",
   "execution_count": 19,
   "metadata": {},
   "outputs": [
    {
     "data": {
      "text/html": [
       "<div>\n",
       "<style scoped>\n",
       "    .dataframe tbody tr th:only-of-type {\n",
       "        vertical-align: middle;\n",
       "    }\n",
       "\n",
       "    .dataframe tbody tr th {\n",
       "        vertical-align: top;\n",
       "    }\n",
       "\n",
       "    .dataframe thead th {\n",
       "        text-align: right;\n",
       "    }\n",
       "</style>\n",
       "<table border=\"1\" class=\"dataframe\">\n",
       "  <thead>\n",
       "    <tr style=\"text-align: right;\">\n",
       "      <th></th>\n",
       "      <th>index</th>\n",
       "      <th>album</th>\n",
       "      <th>song_title</th>\n",
       "      <th>line_number</th>\n",
       "      <th>release_date</th>\n",
       "      <th>word</th>\n",
       "    </tr>\n",
       "  </thead>\n",
       "  <tbody>\n",
       "    <tr>\n",
       "      <th>1</th>\n",
       "      <td>0</td>\n",
       "      <td>Lover</td>\n",
       "      <td>Lover</td>\n",
       "      <td>1</td>\n",
       "      <td>2019-08-16</td>\n",
       "      <td>we</td>\n",
       "    </tr>\n",
       "    <tr>\n",
       "      <th>1</th>\n",
       "      <td>0</td>\n",
       "      <td>Lover</td>\n",
       "      <td>Lover</td>\n",
       "      <td>1</td>\n",
       "      <td>2019-08-16</td>\n",
       "      <td>could</td>\n",
       "    </tr>\n",
       "    <tr>\n",
       "      <th>1</th>\n",
       "      <td>0</td>\n",
       "      <td>Lover</td>\n",
       "      <td>Lover</td>\n",
       "      <td>1</td>\n",
       "      <td>2019-08-16</td>\n",
       "      <td>leave</td>\n",
       "    </tr>\n",
       "    <tr>\n",
       "      <th>1</th>\n",
       "      <td>0</td>\n",
       "      <td>Lover</td>\n",
       "      <td>Lover</td>\n",
       "      <td>1</td>\n",
       "      <td>2019-08-16</td>\n",
       "      <td>the</td>\n",
       "    </tr>\n",
       "    <tr>\n",
       "      <th>1</th>\n",
       "      <td>0</td>\n",
       "      <td>Lover</td>\n",
       "      <td>Lover</td>\n",
       "      <td>1</td>\n",
       "      <td>2019-08-16</td>\n",
       "      <td>christmas</td>\n",
       "    </tr>\n",
       "  </tbody>\n",
       "</table>\n",
       "</div>"
      ],
      "text/plain": [
       "   index  album song_title  line_number release_date       word\n",
       "1      0  Lover     Lover             1   2019-08-16         we\n",
       "1      0  Lover     Lover             1   2019-08-16      could\n",
       "1      0  Lover     Lover             1   2019-08-16      leave\n",
       "1      0  Lover     Lover             1   2019-08-16        the\n",
       "1      0  Lover     Lover             1   2019-08-16  christmas"
      ]
     },
     "execution_count": 19,
     "metadata": {},
     "output_type": "execute_result"
    }
   ],
   "source": [
    "words_data = tt.unnest_tokens(lyrics_data, \"word\", \"lyric\")\n",
    "words_data.head()"
   ]
  },
  {
   "cell_type": "markdown",
   "metadata": {},
   "source": [
    "Get count of words"
   ]
  },
  {
   "cell_type": "code",
   "execution_count": 20,
   "metadata": {},
   "outputs": [
    {
     "data": {
      "text/plain": [
       "you         1939\n",
       "i           1925\n",
       "the         1362\n",
       "and         1179\n",
       "me           731\n",
       "            ... \n",
       "humor          1\n",
       "complex        1\n",
       "treat          1\n",
       "stings         1\n",
       "hipsters       1\n",
       "Name: word, Length: 2812, dtype: int64"
      ]
     },
     "execution_count": 20,
     "metadata": {},
     "output_type": "execute_result"
    }
   ],
   "source": [
    "words_freq = words_data['word'].value_counts()\n",
    "words_freq"
   ]
  },
  {
   "cell_type": "markdown",
   "metadata": {},
   "source": [
    "\n",
    "Removing stop words"
   ]
  },
  {
   "cell_type": "code",
   "execution_count": 21,
   "metadata": {},
   "outputs": [
    {
     "data": {
      "text/plain": [
       "like     335\n",
       "know     325\n",
       "im       313\n",
       "oh       308\n",
       "never    260\n",
       "love     230\n",
       "dont     217\n",
       "na       215\n",
       "cause    188\n",
       "time     182\n",
       "back     176\n",
       "youre    176\n",
       "want     157\n",
       "one      157\n",
       "got      147\n",
       "Name: word, dtype: int64"
      ]
     },
     "execution_count": 21,
     "metadata": {},
     "output_type": "execute_result"
    }
   ],
   "source": [
    "stop = stopwords.words('english')\r\n",
    "#stop = stop.str.replace('[{}]'.format(string.punctuation), '')\r\n",
    "\r\n",
    "words_data['word'] = words_data['word'].apply(lambda x: ' '.join([word for word in x.split() if word not in (stop)]))\r\n",
    "#words_data['word']\r\n",
    "words_data['word'].replace('', np.nan, inplace=True)\r\n",
    "words_mod_freq = words_data['word'].value_counts().nlargest(15)\r\n",
    "words_mod_freq\r\n"
   ]
  },
  {
   "cell_type": "markdown",
   "metadata": {},
   "source": [
    "Plotting the word frequency"
   ]
  },
  {
   "cell_type": "code",
   "execution_count": 22,
   "metadata": {},
   "outputs": [
    {
     "data": {
      "text/plain": [
       "<AxesSubplot:>"
      ]
     },
     "execution_count": 22,
     "metadata": {},
     "output_type": "execute_result"
    },
    {
     "data": {
      "image/png": "[encoded data removed]",
      "text/plain": [
       "<Figure size 432x288 with 1 Axes>"
      ]
     },
     "metadata": {
      "needs_background": "light"
     },
     "output_type": "display_data"
    }
   ],
   "source": [
    "words_mod_freq.plot(kind=\"bar\")"
   ]
  },
  {
   "cell_type": "markdown",
   "metadata": {},
   "source": [
    "Sentiment Analysis"
   ]
  },
  {
   "cell_type": "code",
   "execution_count": 23,
   "metadata": {},
   "outputs": [],
   "source": [
    "# from wordcloud import WordCloud \n",
    "\n",
    "# df = words_data[words_data.word.notna()]\n",
    "# print(df.head())\n",
    "# textt = \" \".join(word for word in df.word)\n",
    "# wordcloud = WordCloud(stopwords=words_mod_freq).generate(textt)\n",
    "# plt.imshow(wordcloud, interpolation='bilinear')"
   ]
  },
  {
   "cell_type": "markdown",
   "metadata": {},
   "source": [
    "Get Sentiment Analyser"
   ]
  },
  {
   "cell_type": "code",
   "execution_count": 24,
   "metadata": {},
   "outputs": [],
   "source": [
    "from nltk.sentiment import SentimentIntensityAnalyzer\n",
    "sia = SentimentIntensityAnalyzer()\n"
   ]
  },
  {
   "cell_type": "markdown",
   "metadata": {},
   "source": [
    "Evalulate sentiment"
   ]
  },
  {
   "cell_type": "code",
   "execution_count": 25,
   "metadata": {},
   "outputs": [],
   "source": [
    "def valuation_formula(x):\n",
    "    return max(sia.polarity_scores(x), key=sia.polarity_scores(x).get)\n",
    "\n",
    "lyrics_data['sentiment'] = lyrics_data.apply(lambda row: valuation_formula(row['lyric']), axis=1)\n"
   ]
  },
  {
   "cell_type": "markdown",
   "metadata": {},
   "source": [
    "Visualise sentiment (Sentiment, Album, Freq), classify sentiment of song by couting sentiment of lines"
   ]
  },
  {
   "cell_type": "code",
   "execution_count": 26,
   "metadata": {},
   "outputs": [
    {
     "data": {
      "text/plain": [
       "neu         4724\n",
       "compound     455\n",
       "pos          166\n",
       "neg          156\n",
       "Name: sentiment, dtype: int64"
      ]
     },
     "execution_count": 26,
     "metadata": {},
     "output_type": "execute_result"
    },
    {
     "data": {
      "image/png": "[encoded data removed]",
      "text/plain": [
       "<Figure size 432x288 with 1 Axes>"
      ]
     },
     "metadata": {},
     "output_type": "display_data"
    }
   ],
   "source": [
    "#plotdata = pd.DataFrame(lyrics_data['sentiment'], lyrics_data['album'])\n",
    "sentiment_freq = lyrics_data['sentiment'].value_counts()\n",
    "plt.pie(sentiment_freq, labels = ['neu', 'comp', 'pos', 'neg'])\n",
    "sentiment_freq.head()\n"
   ]
  },
  {
   "cell_type": "markdown",
   "metadata": {},
   "source": [
    "Grouping sentiment by song"
   ]
  },
  {
   "cell_type": "code",
   "execution_count": 35,
   "metadata": {},
   "outputs": [],
   "source": [
    "sent_list = list()\r\n",
    "\r\n",
    "for i in lyrics_data['song_title'].unique():\r\n",
    "    y = lyrics_data[lyrics_data['song_title'] == i ].sum().lyric\r\n",
    "    m = max(sia.polarity_scores(y)['neg'], sia.polarity_scores(y)['pos'])\r\n",
    "    album_name = lyrics_data['album'].where(lyrics_data['song_title'] == i).dropna().values[0]\r\n",
    "    val_list = list(sia.polarity_scores(y).values())\r\n",
    "    if val_list.index(m) == 2:        \r\n",
    "        sent_list.append([i, album_name,'pos', m])\r\n",
    "    else:\r\n",
    "        sent_list.append([i, album_name,'neg', m])\r\n",
    "        \r\n",
    "# sent_list\r\n"
   ]
  },
  {
   "cell_type": "code",
   "execution_count": 36,
   "metadata": {},
   "outputs": [
    {
     "data": {
      "text/html": [
       "<div>\n",
       "<style scoped>\n",
       "    .dataframe tbody tr th:only-of-type {\n",
       "        vertical-align: middle;\n",
       "    }\n",
       "\n",
       "    .dataframe tbody tr th {\n",
       "        vertical-align: top;\n",
       "    }\n",
       "\n",
       "    .dataframe thead th {\n",
       "        text-align: right;\n",
       "    }\n",
       "</style>\n",
       "<table border=\"1\" class=\"dataframe\">\n",
       "  <thead>\n",
       "    <tr style=\"text-align: right;\">\n",
       "      <th></th>\n",
       "      <th>song_title</th>\n",
       "      <th>album</th>\n",
       "      <th>sentiment</th>\n",
       "      <th>score</th>\n",
       "    </tr>\n",
       "  </thead>\n",
       "  <tbody>\n",
       "    <tr>\n",
       "      <th>0</th>\n",
       "      <td>Lover</td>\n",
       "      <td>Lover</td>\n",
       "      <td>pos</td>\n",
       "      <td>0.143</td>\n",
       "    </tr>\n",
       "    <tr>\n",
       "      <th>1</th>\n",
       "      <td>Look What You Made Me Do</td>\n",
       "      <td>reputation</td>\n",
       "      <td>neg</td>\n",
       "      <td>0.120</td>\n",
       "    </tr>\n",
       "    <tr>\n",
       "      <th>2</th>\n",
       "      <td>End Game  (Ft. Ed Sheeran &amp; Future)</td>\n",
       "      <td>reputation</td>\n",
       "      <td>pos</td>\n",
       "      <td>0.076</td>\n",
       "    </tr>\n",
       "    <tr>\n",
       "      <th>3</th>\n",
       "      <td>ME!  (Ft. Brendon Urie)</td>\n",
       "      <td>Lover</td>\n",
       "      <td>pos</td>\n",
       "      <td>0.178</td>\n",
       "    </tr>\n",
       "    <tr>\n",
       "      <th>4</th>\n",
       "      <td>You Need To Calm Down</td>\n",
       "      <td>Lover</td>\n",
       "      <td>pos</td>\n",
       "      <td>0.151</td>\n",
       "    </tr>\n",
       "    <tr>\n",
       "      <th>...</th>\n",
       "      <td>...</td>\n",
       "      <td>...</td>\n",
       "      <td>...</td>\n",
       "      <td>...</td>\n",
       "    </tr>\n",
       "    <tr>\n",
       "      <th>106</th>\n",
       "      <td>The Outside</td>\n",
       "      <td>Taylor Swift</td>\n",
       "      <td>neg</td>\n",
       "      <td>0.117</td>\n",
       "    </tr>\n",
       "    <tr>\n",
       "      <th>107</th>\n",
       "      <td>A Place In This World</td>\n",
       "      <td>Taylor Swift</td>\n",
       "      <td>neg</td>\n",
       "      <td>0.097</td>\n",
       "    </tr>\n",
       "    <tr>\n",
       "      <th>108</th>\n",
       "      <td>I Wish You Would (Voice Memo)</td>\n",
       "      <td>1989 (Deluxe)</td>\n",
       "      <td>pos</td>\n",
       "      <td>0.163</td>\n",
       "    </tr>\n",
       "    <tr>\n",
       "      <th>109</th>\n",
       "      <td>A Perfectly Good Heart</td>\n",
       "      <td>Taylor Swift</td>\n",
       "      <td>pos</td>\n",
       "      <td>0.281</td>\n",
       "    </tr>\n",
       "    <tr>\n",
       "      <th>110</th>\n",
       "      <td>Teardrops on My Guitar (Pop Version)</td>\n",
       "      <td>Taylor Swift</td>\n",
       "      <td>pos</td>\n",
       "      <td>0.097</td>\n",
       "    </tr>\n",
       "  </tbody>\n",
       "</table>\n",
       "<p>111 rows × 4 columns</p>\n",
       "</div>"
      ],
      "text/plain": [
       "                                song_title          album sentiment  score\n",
       "0                                   Lover           Lover       pos  0.143\n",
       "1                Look What You Made Me Do      reputation       neg  0.120\n",
       "2      End Game  (Ft. Ed Sheeran & Future)     reputation       pos  0.076\n",
       "3                  ME!  (Ft. Brendon Urie)          Lover       pos  0.178\n",
       "4                   You Need To Calm Down           Lover       pos  0.151\n",
       "..                                     ...            ...       ...    ...\n",
       "106                           The Outside    Taylor Swift       neg  0.117\n",
       "107                 A Place In This World    Taylor Swift       neg  0.097\n",
       "108         I Wish You Would (Voice Memo)   1989 (Deluxe)       pos  0.163\n",
       "109                A Perfectly Good Heart    Taylor Swift       pos  0.281\n",
       "110  Teardrops on My Guitar (Pop Version)    Taylor Swift       pos  0.097\n",
       "\n",
       "[111 rows x 4 columns]"
      ]
     },
     "execution_count": 36,
     "metadata": {},
     "output_type": "execute_result"
    }
   ],
   "source": [
    "sent_df = pd.DataFrame(sent_list, columns =['song_title', 'album', 'sentiment', 'score'])\r\n",
    "sent_df"
   ]
  },
  {
   "cell_type": "code",
   "execution_count": 44,
   "metadata": {},
   "outputs": [
    {
     "data": {
      "text/html": [
       "<div>\n",
       "<style scoped>\n",
       "    .dataframe tbody tr th:only-of-type {\n",
       "        vertical-align: middle;\n",
       "    }\n",
       "\n",
       "    .dataframe tbody tr th {\n",
       "        vertical-align: top;\n",
       "    }\n",
       "\n",
       "    .dataframe thead th {\n",
       "        text-align: right;\n",
       "    }\n",
       "</style>\n",
       "<table border=\"1\" class=\"dataframe\">\n",
       "  <thead>\n",
       "    <tr style=\"text-align: right;\">\n",
       "      <th></th>\n",
       "      <th>song_title</th>\n",
       "      <th>album</th>\n",
       "      <th>sentiment</th>\n",
       "      <th>score</th>\n",
       "    </tr>\n",
       "  </thead>\n",
       "  <tbody>\n",
       "    <tr>\n",
       "      <th>66</th>\n",
       "      <td>This Love</td>\n",
       "      <td>1989 (Deluxe)</td>\n",
       "      <td>pos</td>\n",
       "      <td>0.462</td>\n",
       "    </tr>\n",
       "    <tr>\n",
       "      <th>80</th>\n",
       "      <td>Sad Beautiful Tragic</td>\n",
       "      <td>Red</td>\n",
       "      <td>pos</td>\n",
       "      <td>0.398</td>\n",
       "    </tr>\n",
       "    <tr>\n",
       "      <th>56</th>\n",
       "      <td>It’s Nice to Have a Friend</td>\n",
       "      <td>Lover</td>\n",
       "      <td>pos</td>\n",
       "      <td>0.351</td>\n",
       "    </tr>\n",
       "    <tr>\n",
       "      <th>109</th>\n",
       "      <td>A Perfectly Good Heart</td>\n",
       "      <td>Taylor Swift</td>\n",
       "      <td>pos</td>\n",
       "      <td>0.281</td>\n",
       "    </tr>\n",
       "    <tr>\n",
       "      <th>62</th>\n",
       "      <td>22</td>\n",
       "      <td>Red</td>\n",
       "      <td>pos</td>\n",
       "      <td>0.267</td>\n",
       "    </tr>\n",
       "  </tbody>\n",
       "</table>\n",
       "</div>"
      ],
      "text/plain": [
       "                      song_title          album sentiment  score\n",
       "66                    This Love   1989 (Deluxe)       pos  0.462\n",
       "80         Sad Beautiful Tragic             Red       pos  0.398\n",
       "56   It’s Nice to Have a Friend           Lover       pos  0.351\n",
       "109      A Perfectly Good Heart    Taylor Swift       pos  0.281\n",
       "62                           22             Red       pos  0.267"
      ]
     },
     "execution_count": 44,
     "metadata": {},
     "output_type": "execute_result"
    }
   ],
   "source": [
    "sent_df[sent_df.sentiment == 'pos'].sort_values(by=['score'], ascending=False).head()"
   ]
  },
  {
   "cell_type": "code",
   "execution_count": 43,
   "metadata": {},
   "outputs": [
    {
     "data": {
      "text/html": [
       "<div>\n",
       "<style scoped>\n",
       "    .dataframe tbody tr th:only-of-type {\n",
       "        vertical-align: middle;\n",
       "    }\n",
       "\n",
       "    .dataframe tbody tr th {\n",
       "        vertical-align: top;\n",
       "    }\n",
       "\n",
       "    .dataframe thead th {\n",
       "        text-align: right;\n",
       "    }\n",
       "</style>\n",
       "<table border=\"1\" class=\"dataframe\">\n",
       "  <thead>\n",
       "    <tr style=\"text-align: right;\">\n",
       "      <th></th>\n",
       "      <th>song_title</th>\n",
       "      <th>album</th>\n",
       "      <th>sentiment</th>\n",
       "      <th>score</th>\n",
       "    </tr>\n",
       "  </thead>\n",
       "  <tbody>\n",
       "    <tr>\n",
       "      <th>54</th>\n",
       "      <td>Shake It Off</td>\n",
       "      <td>1989 (Deluxe)</td>\n",
       "      <td>neg</td>\n",
       "      <td>0.353</td>\n",
       "    </tr>\n",
       "    <tr>\n",
       "      <th>72</th>\n",
       "      <td>I Wish You Would</td>\n",
       "      <td>1989 (Deluxe)</td>\n",
       "      <td>neg</td>\n",
       "      <td>0.232</td>\n",
       "    </tr>\n",
       "    <tr>\n",
       "      <th>59</th>\n",
       "      <td>I Knew You Were Trouble</td>\n",
       "      <td>Red</td>\n",
       "      <td>neg</td>\n",
       "      <td>0.229</td>\n",
       "    </tr>\n",
       "    <tr>\n",
       "      <th>26</th>\n",
       "      <td>Miss Americana &amp; The Heartbreak Prince</td>\n",
       "      <td>Lover</td>\n",
       "      <td>neg</td>\n",
       "      <td>0.214</td>\n",
       "    </tr>\n",
       "    <tr>\n",
       "      <th>51</th>\n",
       "      <td>​hoax</td>\n",
       "      <td>folklore</td>\n",
       "      <td>neg</td>\n",
       "      <td>0.210</td>\n",
       "    </tr>\n",
       "  </tbody>\n",
       "</table>\n",
       "</div>"
      ],
      "text/plain": [
       "                                 song_title          album sentiment  score\n",
       "54                            Shake It Off   1989 (Deluxe)       neg  0.353\n",
       "72                        I Wish You Would   1989 (Deluxe)       neg  0.232\n",
       "59                 I Knew You Were Trouble             Red       neg  0.229\n",
       "26  Miss Americana & The Heartbreak Prince           Lover       neg  0.214\n",
       "51                                   ​hoax        folklore       neg  0.210"
      ]
     },
     "execution_count": 43,
     "metadata": {},
     "output_type": "execute_result"
    }
   ],
   "source": [
    "sent_df[sent_df.sentiment == 'neg'].sort_values(by=['score'], ascending=False).head()"
   ]
  },
  {
   "cell_type": "markdown",
   "metadata": {},
   "source": [
    "Grouping sentiment by album"
   ]
  },
  {
   "cell_type": "code",
   "execution_count": 45,
   "metadata": {},
   "outputs": [
    {
     "data": {
      "text/plain": [
       "[('Lover', '6', '12', 2.0),\n",
       " ('reputation', '3', '12', 4.0),\n",
       " ('1989 (Deluxe)', '6', '13', 2.1666666666666665),\n",
       " ('folklore', '9', '7', 0.7777777777777778),\n",
       " ('Fearless', '4', '9', 2.25),\n",
       " ('Red', '1', '18', 18.0),\n",
       " ('Taylor Swift', '3', '8', 2.6666666666666665)]"
      ]
     },
     "execution_count": 45,
     "metadata": {},
     "output_type": "execute_result"
    }
   ],
   "source": [
    "album_sent_list = list()\r\n",
    "for i in lyrics_data['album'].unique():\r\n",
    "    album_sent = sent_df['sentiment'].where(sent_df['album'] == i).dropna().values\r\n",
    "    (unique, counts) = np.unique(album_sent, return_counts=True)\r\n",
    "\r\n",
    "    frequencies = np.asarray((unique, counts)).T\r\n",
    "    album_sent_list.append((i, str(frequencies[0][1]), str(frequencies[1][1]), frequencies[1][1] / frequencies[0][1]))\r\n",
    "    \r\n",
    "album_sent_list"
   ]
  },
  {
   "cell_type": "code",
   "execution_count": 46,
   "metadata": {},
   "outputs": [
    {
     "data": {
      "text/html": [
       "<div>\n",
       "<style scoped>\n",
       "    .dataframe tbody tr th:only-of-type {\n",
       "        vertical-align: middle;\n",
       "    }\n",
       "\n",
       "    .dataframe tbody tr th {\n",
       "        vertical-align: top;\n",
       "    }\n",
       "\n",
       "    .dataframe thead th {\n",
       "        text-align: right;\n",
       "    }\n",
       "</style>\n",
       "<table border=\"1\" class=\"dataframe\">\n",
       "  <thead>\n",
       "    <tr style=\"text-align: right;\">\n",
       "      <th></th>\n",
       "      <th>album</th>\n",
       "      <th>neg</th>\n",
       "      <th>pos</th>\n",
       "      <th>pos : neg</th>\n",
       "    </tr>\n",
       "  </thead>\n",
       "  <tbody>\n",
       "    <tr>\n",
       "      <th>0</th>\n",
       "      <td>Lover</td>\n",
       "      <td>6</td>\n",
       "      <td>12</td>\n",
       "      <td>2.000000</td>\n",
       "    </tr>\n",
       "    <tr>\n",
       "      <th>1</th>\n",
       "      <td>reputation</td>\n",
       "      <td>3</td>\n",
       "      <td>12</td>\n",
       "      <td>4.000000</td>\n",
       "    </tr>\n",
       "    <tr>\n",
       "      <th>2</th>\n",
       "      <td>1989 (Deluxe)</td>\n",
       "      <td>6</td>\n",
       "      <td>13</td>\n",
       "      <td>2.166667</td>\n",
       "    </tr>\n",
       "    <tr>\n",
       "      <th>3</th>\n",
       "      <td>folklore</td>\n",
       "      <td>9</td>\n",
       "      <td>7</td>\n",
       "      <td>0.777778</td>\n",
       "    </tr>\n",
       "    <tr>\n",
       "      <th>4</th>\n",
       "      <td>Fearless</td>\n",
       "      <td>4</td>\n",
       "      <td>9</td>\n",
       "      <td>2.250000</td>\n",
       "    </tr>\n",
       "    <tr>\n",
       "      <th>5</th>\n",
       "      <td>Red</td>\n",
       "      <td>1</td>\n",
       "      <td>18</td>\n",
       "      <td>18.000000</td>\n",
       "    </tr>\n",
       "    <tr>\n",
       "      <th>6</th>\n",
       "      <td>Taylor Swift</td>\n",
       "      <td>3</td>\n",
       "      <td>8</td>\n",
       "      <td>2.666667</td>\n",
       "    </tr>\n",
       "  </tbody>\n",
       "</table>\n",
       "</div>"
      ],
      "text/plain": [
       "           album neg pos  pos : neg\n",
       "0          Lover   6  12   2.000000\n",
       "1     reputation   3  12   4.000000\n",
       "2  1989 (Deluxe)   6  13   2.166667\n",
       "3       folklore   9   7   0.777778\n",
       "4       Fearless   4   9   2.250000\n",
       "5            Red   1  18  18.000000\n",
       "6   Taylor Swift   3   8   2.666667"
      ]
     },
     "execution_count": 46,
     "metadata": {},
     "output_type": "execute_result"
    }
   ],
   "source": [
    "album_sent_df = pd.DataFrame(album_sent_list, columns = ['album', 'neg', 'pos', 'pos : neg'])\r\n",
    "album_sent_df"
   ]
  },
  {
   "cell_type": "markdown",
   "metadata": {},
   "source": [
    "Bar graph time"
   ]
  },
  {
   "cell_type": "code",
   "execution_count": 47,
   "metadata": {},
   "outputs": [
    {
     "data": {
      "text/plain": [
       "<AxesSubplot:xlabel='album'>"
      ]
     },
     "execution_count": 47,
     "metadata": {},
     "output_type": "execute_result"
    },
    {
     "data": {
      "image/png": "[encoded data removed]",
      "text/plain": [
       "<Figure size 432x288 with 1 Axes>"
      ]
     },
     "metadata": {
      "needs_background": "light"
     },
     "output_type": "display_data"
    }
   ],
   "source": [
    "#album_sent_df.plot(x=\"album\", y=[\"neg\", \"pos\"], kind=\"bar\")\n",
    "album_sent_df['neg']=album_sent_df['neg'].astype(float)\n",
    "album_sent_df['pos']=album_sent_df['pos'].astype(float)\n",
    "album_sent_df[[\"album\", \"neg\", \"pos\"]].plot(x=\"album\", kind=\"bar\")"
   ]
  },
  {
   "cell_type": "markdown",
   "metadata": {},
   "source": [
    "Based on this definitely-not-inaccurate analysis- \r\n",
    "happiest era: Red, \r\n",
    "saddest era: folklore"
   ]
  }
 ],
 "metadata": {
  "interpreter": {
   "hash": "b5843a13e7131a14c3c0e364f0390d6592a995e3082c3f83420ac4385eeb2370"
  },
  "kernelspec": {
   "display_name": "Python 3.9.6 64-bit",
   "name": "python3"
  },
  "language_info": {
   "codemirror_mode": {
    "name": "ipython",
    "version": 3
   },
   "file_extension": ".py",
   "mimetype": "text/x-python",
   "name": "python",
   "nbconvert_exporter": "python",
   "pygments_lexer": "ipython3",
   "version": "3.9.6"
  }
 },
 "nbformat": 4,
 "nbformat_minor": 5
}